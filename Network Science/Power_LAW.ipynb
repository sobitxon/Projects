{
 "cells": [
  {
   "cell_type": "markdown",
   "metadata": {},
   "source": [
    "# <center>Network Science</center>"
   ]
  },
  {
   "cell_type": "markdown",
   "metadata": {},
   "source": [
    "## <center> #1: Power law</center>"
   ]
  },
  {
   "cell_type": "markdown",
   "metadata": {},
   "source": [
    "### <center>Student: *Sobitkhon Atakhujaev*</center>"
   ]
  },
  {
   "cell_type": "markdown",
   "metadata": {},
   "source": [
    "#### <hr /> General Information"
   ]
  },
  {
   "cell_type": "markdown",
   "metadata": {},
   "source": [
    "## Problems"
   ]
  },
  {
   "cell_type": "markdown",
   "metadata": {},
   "source": [
    "### Task 1."
   ]
  },
  {
   "cell_type": "markdown",
   "metadata": {},
   "source": [
    "Load [wordcounts](http://www.leonidzhukov.net/hse/2015/networks/data/wordcounts.txt) dataset. \n",
    "1. Check that Zipf's Law holds\n",
    "2. Assuming that the data is distributed according to the Power Law, find\n",
    " * $\\alpha$ of the distribution\n",
    " * mean sample variance $\\sigma^2$\n",
    "3. Produce summary of the frequencies: min, max, mean, median"
   ]
  },
  {
   "cell_type": "code",
   "execution_count": 73,
   "metadata": {},
   "outputs": [
    {
     "name": "stdout",
     "output_type": "stream",
     "text": [
      "1.9.1\n",
      "1.4.3\n",
      "alpha= 1.71941763006\n",
      "sigma= 0.0090508895608\n",
      "sigma^2= 8.19186018419e-05\n",
      "std^2= 15360778764.5\n",
      "count       6318.000000\n",
      "mean       13566.670782\n",
      "std       123948.418391\n",
      "min          800.000000\n",
      "25%         1282.250000\n",
      "50%         2335.000000\n",
      "75%         6049.500000\n",
      "max      6187267.000000\n",
      "Name: number, dtype: float64\n",
      "mean= 13566.6707819\n",
      "median= 2335.0\n"
     ]
    },
    {
     "data": {
      "image/png": "[encoded data removed]",
      "text/plain": [
       "<matplotlib.figure.Figure at 0x6e518d68>"
      ]
     },
     "metadata": {},
     "output_type": "display_data"
    }
   ],
   "source": [
    "# Start your code here\n",
    "#\n",
    "#\n",
    "#\n",
    "from __future__ import division\n",
    "import numpy as np\n",
    "import matplotlib\n",
    "import matplotlib.pyplot as plt\n",
    "import networkx as nx\n",
    "import pandas as pd\n",
    "%matplotlib inline\n",
    "data = pd.read_csv('wordcounts.txt', header = None)\n",
    "\n",
    "\n",
    "#np.loadtxt(\"wordcounts.txt\",dtype=None,delimiter='', skiprows=0)\n",
    "print(nx.__version__)\n",
    "print(matplotlib.__version__)\n",
    "data1=data[0].str.extract('(?P<number>\\d+)\\s(?P<word>\\w+)')\n",
    "data1.number = data1.number.astype('int')\n",
    "data1.head()\n",
    "plt.plot(np.log(1 + np.arange(data1.shape[0])), np.log(data1.number.values), '-') \n",
    "plt.ylabel('word frequency')\n",
    "plt.xlabel('word rank')\n",
    "2.\n",
    "xmin=np.min(data1.number)\n",
    "alpha1 = 1 + ( len(data1.number) *1.0 / sum(np.log(data1.number/xmin)) )\n",
    "print 'alpha=',alpha1\n",
    "sigma = (alpha1 - 1)/np.sqrt(data1.number.shape[0])\n",
    "print 'sigma=', sigma\n",
    "print 'sigma^2=', sigma**2\n",
    "\n",
    "std1 = np.std(data1.number)**2\n",
    "print 'std^2=', std1\n",
    "#plt.plot(data1.freq.values, 1+np.arange(data1.shape[0]), '-')\n",
    "#data1.freq = data1.number / data1.number.sum()\n",
    "#plt.plot(np.log(1 + np.arange(data1.shape[0])), np.log(data1.number.values), '-')\n",
    "3. \n",
    "              \n",
    "print data1.number.describe()\n",
    "              \n",
    "min_1 = np.min(data1.number)\n",
    "max_1 = np.max(data1.number)\n",
    "mean_1 = np.mean(data1.number)\n",
    "median_1 = np.median(data1.number)\n",
    "print 'mean=',mean_1\n",
    "print 'median=' , median_1"
   ]
  },
  {
   "cell_type": "markdown",
   "metadata": {},
   "source": [
    "**1. **\n",
    "    Yes Zipf's Law holds"
   ]
  },
  {
   "cell_type": "markdown",
   "metadata": {},
   "source": [
    "**2 **\n",
    " alpha= 1.71941763006\n",
    " sigma= 0.0090508895608"
   ]
  },
  {
   "cell_type": "markdown",
   "metadata": {},
   "source": [
    "**3**<br>\n",
    "count       6318.000000 <br>\n",
    "mean       13566.670782 <br>\n",
    "std       123948.418391 <br>\n",
    "min          800.000000 <br>\n",
    "25%         1282.250000 <br>\n",
    "50%         2335.000000 <br>\n",
    "75%         6049.500000 <br>\n",
    "max      6187267.000000 <br>\n",
    "mean= 13566.6707819 <br>\n",
    "median= 2335.0 <br>"
   ]
  },
  {
   "cell_type": "markdown",
   "metadata": {},
   "source": [
    "### <hr /> Task 2."
   ]
  },
  {
   "cell_type": "markdown",
   "metadata": {},
   "source": [
    "Find and plot PDF and CDF for the following networks:\n",
    "* [Routing network](http://www.leonidzhukov.net/hse/2015/networks/data/network.txt)\n",
    "* [Web graph](http://www.leonidzhukov.net/hse/2015/networks/data/web_Stanford.txt)\n",
    "* [Facebook network](http://www.leonidzhukov.net/hse/2015/networks/data/fb_Princeton.txt)\n",
    "\n",
    "\n",
    "1. Are they correspondent to power law?\n",
    "2. Find max and mean values of incoming and outcoming node degrees\n",
    "3. Find $\\alpha$ via Maximum Likelihood and calculate $\\sigma^2$\n",
    "4. Determine $x_{min}$ via Kolmogorov-Smirnov test"
   ]
  },
  {
   "cell_type": "code",
   "execution_count": 2,
   "metadata": {},
   "outputs": [],
   "source": [
    "# Start your code here\n",
    "#\n",
    "#\n",
    "#\n",
    "G1 = nx.read_edgelist('network.txt',nodetype=int)\n",
    "G3 = nx.read_edgelist('fb_Princeton.txt',nodetype=int)\n",
    "G2 = nx.read_edgelist('web_Stanford.txt',nodetype=int,create_using=nx.DiGraph())"
   ]
  },
  {
   "cell_type": "code",
   "execution_count": 3,
   "metadata": {
    "collapsed": true
   },
   "outputs": [],
   "source": [
    "def find_cdf(k, x_min=1):\n",
    "    myarray=np.asarray(k.values())\n",
    "    myarray = myarray[myarray >= x_min]\n",
    "    d=pd.Series(myarray).value_counts().sort_index()\n",
    "    d=d/d.sum()\n",
    "    cdf=d.cumsum()\n",
    "    return cdf\n",
    "\n",
    "def find_cdfx(k,x_min=1):\n",
    "    myarray=np.asarray(k.values())\n",
    "    myarray = myarray[myarray >= x_min]\n",
    "    alpha = 1 + ( myarray.shape[0] *1.0 / np.sum(np.log(myarray/x_min)) )\n",
    "    sigma = (alpha - 1)/np.sqrt(myarray.shape[0])\n",
    "#     print('alpha=', alpha, 'sigma =', sigma, 'x_min=', x_min)\n",
    "    myarray = np.unique(myarray)\n",
    "    #print myarray\n",
    "    cdfx = 1-(myarray/x_min)**(-alpha+1)\n",
    "    return cdfx\n",
    "\n",
    "def find_ccdf(d):\n",
    "    ccdf = 1 - d\n",
    "    return ccdf"
   ]
  },
  {
   "cell_type": "code",
   "execution_count": 67,
   "metadata": {
    "collapsed": true
   },
   "outputs": [],
   "source": [
    "def draw_pdf_cdf_kolmogorov_smirnov_test(k):\n",
    "    plt.figure(figsize=(20,7))\n",
    "    degrees = pd.Series(k.values())\n",
    "    pdf = (degrees.value_counts()/degrees.count()).sort_index()\n",
    "    plt.title('PDF')\n",
    "    plt.ylabel('probability')\n",
    "    plt.xlabel('degree')\n",
    "    plt.semilogx(pdf,'s--')\n",
    "\n",
    "    cdf = find_cdf(k, x_min=1)\n",
    "    ccdf = 1-cdf\n",
    "    cdfx = find_cdfx(k, x_min=1)\n",
    "    plt.figure(figsize=(20,5))\n",
    "    plt.title('CCDF')\n",
    "    plt.xlabel('DEGREE')\n",
    "    plt.ylabel('CCDF')\n",
    "    ccdf.plot(style='*-', loglog=True, figsize=(20,7))#print ccdf\n",
    "\n",
    "    myarray= np.unique(degrees.values)\n",
    "    myarray = myarray[myarray >= 1]\n",
    "\n",
    "    plt.figure(figsize=(20,10))\n",
    "    plt.title('CDF')\n",
    "    plt.xlabel('DEGREE')\n",
    "    plt.ylabel('CDF')\n",
    "    plt.semilogx(myarray, cdfx, '-', color='red')\n",
    "    plt.semilogx(myarray, cdf, '*', color='blue', linewidth=3)\n",
    "    \n",
    "    \n",
    "    plt.figure(figsize=(20,10))\n",
    "    ds = [np.max(np.abs(find_cdf(k, x_min=i) - find_cdfx(k, x_min=i))) for i in myarray]\n",
    "    plt.xlabel('Xmin')\n",
    "    plt.ylabel('D')\n",
    "    plt.title('The result of Kolmogorov-Smirnov test(compare model and experimental CDF)')\n",
    "    plt.semilogx(myarray, ds)\n",
    "    minimum = myarray[np.argmin(ds)]\n",
    "    plt.axvline(myarray[np.argmin(ds)], color='red')\n",
    "    degrees = degrees[degrees >= minimum]\n",
    "    alpha = 1 + ( degrees.shape[0] *1.0 / np.sum(np.log(degrees.values/minimum)) )\n",
    "    sigma = (alpha - 1)/np.sqrt(degrees.shape[0])\n",
    "    print 'x min = ', minimum, 'alpha =', alpha ,'sigma=',sigma,'sigma^2=', sigma**2, 'in KST(Kolmogorov-Smirnov test)'"
   ]
  },
  {
   "cell_type": "markdown",
   "metadata": {},
   "source": [
    "# Facebook network"
   ]
  },
  {
   "cell_type": "code",
   "execution_count": 32,
   "metadata": {
    "collapsed": true
   },
   "outputs": [],
   "source": [
    "k3=G3.degree()"
   ]
  },
  {
   "cell_type": "code",
   "execution_count": null,
   "metadata": {
    "scrolled": false
   },
   "outputs": [],
   "source": [
    "draw_pdf_cdf_kolmogorov_smirnov_test(k3)"
   ]
  },
  {
   "cell_type": "markdown",
   "metadata": {},
   "source": [
    "**From the graph of CDF we can see that our CDF isn't Power law. It will be power law only in tail from Xmin**"
   ]
  },
  {
   "cell_type": "markdown",
   "metadata": {},
   "source": [
    "# WEB_GRAPH"
   ]
  },
  {
   "cell_type": "markdown",
   "metadata": {},
   "source": [
    "**WEBGRAPH INCOMING Degree**"
   ]
  },
  {
   "cell_type": "code",
   "execution_count": 24,
   "metadata": {
    "collapsed": true
   },
   "outputs": [],
   "source": [
    "k21=G2.in_degree()"
   ]
  },
  {
   "cell_type": "code",
   "execution_count": null,
   "metadata": {},
   "outputs": [],
   "source": [
    "draw_pdf_cdf_kolmogorov_smirnov_test(k21)"
   ]
  },
  {
   "cell_type": "markdown",
   "metadata": {},
   "source": [
    "**Yes Routing network correspondent to Power Law** It is Power Law with alpha>=2 from Xmin"
   ]
  },
  {
   "cell_type": "markdown",
   "metadata": {},
   "source": [
    "**Webgraph OUTCOMING DEGREE**"
   ]
  },
  {
   "cell_type": "code",
   "execution_count": 13,
   "metadata": {
    "collapsed": true
   },
   "outputs": [],
   "source": [
    "k22=G2.out_degree()"
   ]
  },
  {
   "cell_type": "code",
   "execution_count": null,
   "metadata": {},
   "outputs": [],
   "source": [
    "draw_pdf_cdf_kolmogorov_smirnov_test(k22)"
   ]
  },
  {
   "cell_type": "markdown",
   "metadata": {},
   "source": [
    "**Yes Routing network correspondent to Power Law**"
   ]
  },
  {
   "cell_type": "markdown",
   "metadata": {},
   "source": [
    "# Routing network"
   ]
  },
  {
   "cell_type": "code",
   "execution_count": 16,
   "metadata": {
    "collapsed": true
   },
   "outputs": [],
   "source": [
    "k1=G1.degree()"
   ]
  },
  {
   "cell_type": "code",
   "execution_count": null,
   "metadata": {},
   "outputs": [],
   "source": [
    "draw_pdf_cdf_kolmogorov_smirnov_test(k1)"
   ]
  },
  {
   "cell_type": "markdown",
   "metadata": {},
   "source": [
    "**Yes Routing network correspondent to Power Law**"
   ]
  }
 ],
 "metadata": {
  "kernelspec": {
   "display_name": "Python 3",
   "language": "python",
   "name": "python3"
  },
  "language_info": {
   "codemirror_mode": {
    "name": "ipython",
    "version": 3
   },
   "file_extension": ".py",
   "mimetype": "text/x-python",
   "name": "python",
   "nbconvert_exporter": "python",
   "pygments_lexer": "ipython3",
   "version": "3.8.3"
  }
 },
 "nbformat": 4,
 "nbformat_minor": 1
}
