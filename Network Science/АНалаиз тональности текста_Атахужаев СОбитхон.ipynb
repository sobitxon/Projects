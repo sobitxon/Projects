{
 "cells": [
  {
   "cell_type": "markdown",
   "metadata": {},
   "source": [
    "## Выполнил Атахужаев Собитхон (ИССА, науки о данных)"
   ]
  },
  {
   "cell_type": "markdown",
   "metadata": {},
   "source": [
    "АНалаиз тональности текста\n",
    "ЧТобы вычислить АНалаиз тональности текста дадим оценку в каждое слово в нашем предложении:\n",
    "+1 если позитивная тональность\n",
    "-1 если негативная тональность\n",
    "После этого суммируем оценку всех слов чтобы узнать общую тональность предложения.\n",
    "Это 1 из методов. Но существует ряд ограничений. Но среди всех ограничений самыми существенными являются:\n",
    "    1. пренебрежение текстом\n",
    "    2. пренебрежение словами которые находятся ближе к этим словам\n",
    "Пример: не умный = 0; не = -1; умный=1; -1+1=0;\n",
    "Другим методом является \"Bag of words\"(мешок слов). Каждый текст мы рассматриваем как вектор с размером N(размер словаря);\n",
    "В каждой ячейке нашего массива мы записываем сколько раз встречался данное слово в тексте. Например, ДЛя текста \n",
    "John likes to watch movies. Mary likes movies too. имеем такой вектор [1, 2, 1, 1, 2, 0, 0, 0, 1, 1]. Слово likes встречается 2 раза и т.д. После этого с помощью разных алгоритмов Машинного обучения(логистическая реггрессия, метод опорных векторов(SVM),...) производим классификацию и прогнозируем тональность данных.\n",
    "Для этого используем метод Word2Vec разработанное компанией GOOGLE. Данный метод уменьшает объем данных и кроме того он учитывает контекст.\n",
    "Word2Vec включает в себе 2 метода:\n",
    "    1.CBOW - непрерывный мешок слов\n",
    "    2.Skip-gram - предсказание набора близлежащих слов на основании одного слова ()\n",
    "Оба метода для классификации используют нейронные сети.\n"
   ]
  },
  {
   "cell_type": "code",
   "execution_count": 1,
   "metadata": {},
   "outputs": [],
   "source": [
    "from gensim.models.word2vec import Word2Vec"
   ]
  },
  {
   "cell_type": "code",
   "execution_count": 28,
   "metadata": {
    "collapsed": true
   },
   "outputs": [],
   "source": [
    "%matplotlib inline\n",
    "import os"
   ]
  },
  {
   "cell_type": "code",
   "execution_count": 2,
   "metadata": {},
   "outputs": [],
   "source": [
    "from gensim.models.word2vec import Word2Vec\n",
    "model = Word2Vec.load_word2vec_format('GoogleNews-vectors-negative300.bin', binary=True)"
   ]
  },
  {
   "cell_type": "code",
   "execution_count": 3,
   "metadata": {},
   "outputs": [
    {
     "data": {
      "text/plain": [
       "[(u'queen', 0.7118192911148071),\n",
       " (u'monarch', 0.6189674139022827),\n",
       " (u'princess', 0.5902431607246399),\n",
       " (u'crown_prince', 0.5499460697174072),\n",
       " (u'prince', 0.5377321243286133),\n",
       " (u'kings', 0.5236844420433044),\n",
       " (u'Queen_Consort', 0.5235945582389832),\n",
       " (u'queens', 0.5181134343147278),\n",
       " (u'sultan', 0.5098593235015869),\n",
       " (u'monarchy', 0.5087411999702454),\n",
       " (u'royal_palace', 0.5087165832519531),\n",
       " (u'throne', 0.5005807280540466),\n",
       " (u'royal', 0.4938204884529114),\n",
       " (u'Princess_Sikhanyiso', 0.4936617612838745),\n",
       " (u'ruler', 0.4909276068210602),\n",
       " (u'empress', 0.4887813925743103),\n",
       " (u'Prince_Paras', 0.4832945466041565),\n",
       " (u'princes', 0.48108160495758057),\n",
       " (u'King_Ahasuerus', 0.47894203662872314),\n",
       " (u'very_pampered_McElhatton', 0.47636353969573975),\n",
       " (u'NYC_anglophiles_aflutter', 0.47184517979621887),\n",
       " (u'monarch_Gyanendra', 0.4703860878944397),\n",
       " (u'Princess_Sirindhorn', 0.46853649616241455),\n",
       " (u'goddess', 0.46613648533821106),\n",
       " (u'absolute_monarch', 0.46446692943573),\n",
       " (u'Savory_aromas_wafted', 0.46396055817604065),\n",
       " (u'king_Gyanendra', 0.4636736810207367),\n",
       " (u'King_Bhumipol', 0.4577943682670593),\n",
       " (u'kumaris', 0.4567968249320984),\n",
       " (u'kingdom', 0.4550568461418152),\n",
       " (u'bare_breasted_maidens', 0.4532833993434906),\n",
       " (u'queendom', 0.4527934789657593),\n",
       " (u'palace', 0.45176565647125244),\n",
       " (u'princess_consort', 0.4499201476573944),\n",
       " (u'reigning_monarch', 0.44986391067504883),\n",
       " (u'royals', 0.44969215989112854),\n",
       " (u'Nothando_Dube', 0.44873228669166565),\n",
       " (u'benevolent_monarch', 0.4478287696838379),\n",
       " (u'Crown_Princess_Maha', 0.44712552428245544),\n",
       " (u'Her_Highness_Princess', 0.44686537981033325),\n",
       " (u'Simeon_Saxcoburggotski', 0.4456217288970947),\n",
       " (u'Mswati', 0.4447858929634094),\n",
       " (u'King_Mswati', 0.4445216655731201),\n",
       " (u'HRH_Princess', 0.4438818097114563),\n",
       " (u'maharaja', 0.44367170333862305),\n",
       " (u'deposed_monarch', 0.4433717131614685),\n",
       " (u'King_Bhumipol_Adulyadej', 0.44262662529945374),\n",
       " (u'princesses', 0.4423072934150696),\n",
       " (u'hereditary_monarchy', 0.44203150272369385),\n",
       " (u'Her_Serene_Highness', 0.4418632686138153),\n",
       " (u'Bakonzo_Bamba', 0.43900635838508606),\n",
       " (u'Kumari_Ghar', 0.4379587173461914),\n",
       " (u'Princess', 0.4375406801700592),\n",
       " (u'duchess', 0.4372400641441345),\n",
       " (u'prince_consort', 0.43711966276168823),\n",
       " (u'Mohammed_Zahir_Shah', 0.43654385209083557),\n",
       " (u'Maha_Chakri_Sirindhorn', 0.4350607991218567),\n",
       " (u'Queen', 0.4346379041671753),\n",
       " (u'monarchs', 0.43432289361953735),\n",
       " (u'Princess_Lalla_Salma', 0.43378496170043945),\n",
       " (u'Narayanhity_royal_palace', 0.4333435297012329),\n",
       " (u'Jigme_Keshar_Namgyal_Wangchuck', 0.4326855540275574),\n",
       " (u'royal_highness', 0.43217822909355164),\n",
       " (u'handmaid', 0.43145987391471863),\n",
       " (u'King_Tribhuwan', 0.4305959939956665),\n",
       " (u'Ptolemy_III', 0.43028396368026733),\n",
       " (u'Gosakuramachi', 0.4300319254398346),\n",
       " (u'Crown_Prince', 0.4298945665359497),\n",
       " (u'Princess_Chulabhorn', 0.4290215075016022),\n",
       " (u'Mswati_III', 0.42810600996017456),\n",
       " (u'King_Norodom_Sihanouk', 0.4273354113101959),\n",
       " (u'spokesman_Armand_Deus', 0.4269062876701355),\n",
       " (u'Eugene_Ionesco_absurdist_comedy', 0.42659395933151245),\n",
       " (u'Obusinga_bwa_Rwenzururu', 0.4262983798980713),\n",
       " (u'royal_consort', 0.4259984493255615),\n",
       " (u'Jigme_Khesar_Namgyel_Wangchuck', 0.42584529519081116),\n",
       " (u'Pansy_Ho_Chiu', 0.4235050082206726),\n",
       " (u'King_Prajadhipok', 0.4234431982040405),\n",
       " (u'marries_commoner', 0.42307740449905396),\n",
       " (u'Edward_VIII_abdicated', 0.42306962609291077),\n",
       " (u'Best_Kemigisa', 0.4228174686431885),\n",
       " (u'Jigme_Khesar', 0.422579288482666),\n",
       " (u'kumari', 0.4221240282058716),\n",
       " (u'Kabaka_Ronald_Mutebi', 0.4218981862068176),\n",
       " (u'maharani', 0.42143261432647705),\n",
       " (u'commoner', 0.42127469182014465),\n",
       " (u'constitutional_monarch', 0.4210130572319031),\n",
       " (u'Queen_Elizabeth', 0.420533150434494),\n",
       " (u'Shura_consultative_Council', 0.41983017325401306),\n",
       " (u'King_Achashverosh', 0.4196929931640625),\n",
       " (u'Ankaase_royals', 0.4195999503135681),\n",
       " (u'rajah', 0.4193155765533447),\n",
       " (u'Prince_Norodom_Sihamoni', 0.4189883768558502),\n",
       " (u'Chrysanthemum_throne', 0.418430894613266),\n",
       " (u'marrying_commoner', 0.41764265298843384),\n",
       " (u'Ankhesenamun', 0.41750189661979675),\n",
       " (u'Princess_Margarita', 0.4173978865146637),\n",
       " (u'marry_commoner', 0.41722896695137024),\n",
       " (u'King_Farouk', 0.4162464141845703),\n",
       " (u'Ahmose', 0.415357768535614)]"
      ]
     },
     "execution_count": 3,
     "metadata": {},
     "output_type": "execute_result"
    }
   ],
   "source": [
    "#Теперь рассмотрим взаимосвязи между словами с помощью метода most_similar:\n",
    "model.most_similar(positive=['woman', 'king'], negative=['man'], topn=100)"
   ]
  },
  {
   "cell_type": "code",
   "execution_count": 4,
   "metadata": {},
   "outputs": [
    {
     "data": {
      "text/plain": [
       "[(u'spoke', 0.6965223550796509),\n",
       " (u'speaking', 0.6261292099952698),\n",
       " (u'conversed', 0.5754592418670654),\n",
       " (u'spoken', 0.5704882740974426),\n",
       " (u'speaks', 0.5630601644515991),\n",
       " (u'talked', 0.5199896097183228),\n",
       " (u'chatted', 0.5146749019622803),\n",
       " (u'interviewed', 0.4727758765220642),\n",
       " (u'attended', 0.45846396684646606),\n",
       " (u'listened_politely', 0.45828357338905334),\n",
       " (u'spoke_eloquently', 0.45515596866607666),\n",
       " (u'Speaking', 0.4437018632888794),\n",
       " (u'listened_intently', 0.44103628396987915),\n",
       " (u'exchanged_greetings', 0.4370613098144531),\n",
       " (u'listened', 0.4349958300590515),\n",
       " (u'interacted', 0.431366890668869),\n",
       " (u'crossed_paths', 0.4275667667388916),\n",
       " (u'corresponded', 0.42430830001831055),\n",
       " (u'babbled', 0.42262762784957886),\n",
       " (u'discuss', 0.41420742869377136),\n",
       " (u'communicated', 0.4131298065185547),\n",
       " (u'talk', 0.4111563563346863),\n",
       " (u'met', 0.4106965661048889),\n",
       " (u'laughed_derisively', 0.4083397388458252),\n",
       " (u'Boehner_teared', 0.40474721789360046),\n",
       " (u'nodded_knowingly', 0.4047172963619232),\n",
       " (u'attentively_listened', 0.40385299921035767),\n",
       " (u'discoursed', 0.4027616083621979),\n",
       " (u'buttonholed', 0.40210190415382385),\n",
       " (u'lectured', 0.40170687437057495),\n",
       " (u'listened_attentively', 0.4001442790031433),\n",
       " (u'spoke_haltingly', 0.3979717195034027),\n",
       " (u'communed', 0.3966100811958313),\n",
       " (u'clapped_enthusiastically', 0.39377859234809875),\n",
       " (u'teared', 0.3878929018974304),\n",
       " (u'sat', 0.38762348890304565),\n",
       " (u'rambled_incoherently', 0.3875736892223358),\n",
       " (u'verbally_sparred', 0.3865063786506653),\n",
       " (u'jabbered', 0.38437312841415405),\n",
       " (u'prattled', 0.3838350772857666),\n",
       " (u'chatted_animatedly', 0.3836832046508789),\n",
       " (u'exchanged_pleasantries', 0.38350749015808105),\n",
       " (u'spoke_candidly', 0.3828292489051819),\n",
       " (u'referred', 0.38279786705970764),\n",
       " (u'discussed', 0.3825705051422119),\n",
       " (u'shook_hands', 0.381188303232193),\n",
       " (u'trembled', 0.38002288341522217),\n",
       " (u'cried', 0.37973305583000183),\n",
       " (u'Arabic_Swahili', 0.37844741344451904),\n",
       " (u'dined', 0.3765905499458313),\n",
       " (u'eyes_welled', 0.3765527009963989),\n",
       " (u'speaks_fluently', 0.37629395723342896),\n",
       " (u'quizzed', 0.3748142719268799),\n",
       " (u'chatted_informally', 0.3732338547706604),\n",
       " (u'conferenced', 0.3712347447872162),\n",
       " (u'clapped_loudly', 0.3702353239059448),\n",
       " (u'testify', 0.36932915449142456),\n",
       " (u'stammered', 0.3686264157295227),\n",
       " (u'answering_questions', 0.36852961778640747),\n",
       " (u'recited', 0.3684740960597992),\n",
       " (u'chit_chatted', 0.3684278130531311),\n",
       " (u'tearfully_thanked', 0.3680005669593811),\n",
       " (u'drew_snickers', 0.36799097061157227),\n",
       " (u'waxed_poetic', 0.3670150637626648),\n",
       " (u'reminisced', 0.3663747310638428),\n",
       " (u'pontificated', 0.3646390438079834),\n",
       " (u'bantered', 0.3646274507045746),\n",
       " (u'nodded_affirmatively', 0.36459219455718994),\n",
       " (u'Eyharts_greeted', 0.36436694860458374),\n",
       " (u'listened_raptly', 0.36429405212402344),\n",
       " (u'empathized', 0.3642033338546753),\n",
       " (u'spoke_glowingly', 0.36407214403152466),\n",
       " (u'conversing', 0.3636209964752197),\n",
       " (u'uttered', 0.36344683170318604),\n",
       " (u'sat_stony_faced', 0.36224883794784546),\n",
       " (u'waxed_eloquently', 0.3618692457675934),\n",
       " (u'stood', 0.3616306185722351),\n",
       " (u'Speak', 0.36115479469299316),\n",
       " (u'visited', 0.36098000407218933),\n",
       " (u'smiled', 0.3608093857765198),\n",
       " (u'speak_candidly', 0.36078718304634094),\n",
       " (u'McNabb_exchanged_hugs', 0.3606743812561035),\n",
       " (u'sang_Happy_Birthday', 0.35991567373275757),\n",
       " (u'discoursing', 0.35984838008880615),\n",
       " (u'spoke_disparagingly', 0.3587338626384735),\n",
       " (u'converse', 0.35670340061187744),\n",
       " (u'blabbered', 0.3566854000091553),\n",
       " (u'hissed', 0.35653284192085266),\n",
       " (u'recounted', 0.3563748598098755),\n",
       " (u'chattered', 0.3555285334587097),\n",
       " (u'stared', 0.3553650677204132),\n",
       " (u'yelling_unintelligibly', 0.35515546798706055),\n",
       " (u'briefed', 0.35467106103897095),\n",
       " (u'smiled_warmly', 0.3544238805770874),\n",
       " (u'Peloponnesian_Wars', 0.35425713658332825),\n",
       " (u'blew_gasket', 0.35413479804992676),\n",
       " (u'inquired', 0.3541267216205597),\n",
       " (u'wept', 0.35401782393455505),\n",
       " (u'expound', 0.3536459803581238),\n",
       " (u'refer', 0.3533937931060791)]"
      ]
     },
     "execution_count": 4,
     "metadata": {},
     "output_type": "execute_result"
    }
   ],
   "source": [
    "model.most_similar(positive=['ate','speak'], negative=['eat'], topn=100)"
   ]
  },
  {
   "cell_type": "markdown",
   "metadata": {},
   "source": [
    "По полученным результатам мы можем увидеть что оно позволяет нам определить самые нетривиальные взаимосвязи с разными словами. \n",
    "Далее чтобы оценить, как Word2Vec различает слова и класстеризует слова возмъем с сайта  Enchanted Learning. чтобы уменьшить размерность векторов используем алгоритм t-SNE(sklearn - scikit-learn), который понижает размерьность. В качестве примера возмъем набор слов из разных областей(питание, спорт,погода,....)\n",
    "\n",
    "Во-первых, мы должны получить векторы слов следующим образом:"
   ]
  },
  {
   "cell_type": "code",
   "execution_count": 5,
   "metadata": {},
   "outputs": [],
   "source": [
    "import numpy as np\n",
    "\n",
    "def getWordVecs(words):\n",
    "    vecs = []\n",
    "    for word in words:\n",
    "        word = word.replace('\\n', '')\n",
    "        try:\n",
    "            vecs.append(model[word].reshape((1,300)))\n",
    "        except KeyError:\n",
    "            continue\n",
    "    vecs = np.concatenate(vecs)\n",
    "    return np.array(vecs, dtype='float') #TSNE expects float type values\n",
    "\n",
    "with open('animals.txt', 'r') as infile:\n",
    "    animals_words = infile.readlines()\n",
    "\n",
    "with open('sports.txt', 'r') as infile:\n",
    "    sports_words = infile.readlines()\n",
    "\n",
    "with open('weather.txt', 'r') as infile:\n",
    "    weather_words = infile.readlines()\n",
    "\n",
    "with open('food.txt', 'r') as infile:\n",
    "    food_words = infile.readlines()\n",
    "\n",
    "\n",
    "\n",
    "animals_vecs = getWordVecs(animals_words)\n",
    "food_vecs = getWordVecs(food_words)\n",
    "weather_vecs = getWordVecs(weather_words)\n",
    "sports_vecs = getWordVecs(sports_words)"
   ]
  },
  {
   "cell_type": "markdown",
   "metadata": {},
   "source": [
    "Затем мы можем использовать TSNE и Matplotlib для визуализации кластеров со следующим кодом:"
   ]
  },
  {
   "cell_type": "code",
   "execution_count": 22,
   "metadata": {},
   "outputs": [
    {
     "data": {
      "image/png": "[encoded data removed]",
      "text/plain": [
       "<matplotlib.figure.Figure at 0x7cc810b8>"
      ]
     },
     "metadata": {},
     "output_type": "display_data"
    }
   ],
   "source": [
    "from sklearn.manifold import TSNE\n",
    "import matplotlib.pyplot as plt\n",
    "\n",
    "ts = TSNE(2)\n",
    "reduced_vecs = ts.fit_transform(np.concatenate((food_vecs, sports_vecs, weather_vecs)))\n",
    "\n",
    "#color points by word group to see if Word2Vec can separate them\n",
    "for i in range(len(reduced_vecs)):\n",
    "    if i < len(food_vecs):\n",
    "        #food words colored blue\n",
    "        color = 'b'\n",
    "    elif i >= len(food_vecs) and i < (len(food_vecs) + len(sports_vecs)):\n",
    "        #sports words colored red\n",
    "        color = 'r'\n",
    "    else:\n",
    "        #weather words colored green\n",
    "        color = 'g'\n",
    "    plt.plot(reduced_vecs[i,0], reduced_vecs[i,1], marker='o', color=color, markersize=8)"
   ]
  },
  {
   "cell_type": "markdown",
   "metadata": {},
   "source": [
    "## Анализ настроения тональности твитов()"
   ]
  },
  {
   "cell_type": "markdown",
   "metadata": {},
   "source": [
    "смайлик (:-)) соответствует позитивным настроениям(эмотикон), и грустное лицо  (:-() относиться к отрицательному."
   ]
  },
  {
   "cell_type": "code",
   "execution_count": 13,
   "metadata": {},
   "outputs": [
    {
     "data": {
      "text/plain": [
       "449598"
      ]
     },
     "execution_count": 13,
     "metadata": {},
     "output_type": "execute_result"
    }
   ],
   "source": [
    "from sklearn.cross_validation import train_test_split\n",
    "from gensim.models.word2vec import Word2Vec\n",
    "\n",
    "with open('pos_tweets.txt', 'r') as infile:\n",
    "    pos_tweets = infile.readlines()\n",
    "\n",
    "with open('neg_tweets.txt', 'r') as infile:\n",
    "    neg_tweets = infile.readlines()\n",
    "\n",
    "# для полезных отзывов 1, для отрицательных  \n",
    "#use 1 for positive sentiment, 0 for negative\n",
    "y = np.concatenate((np.ones(len(pos_tweets)), np.zeros(len(neg_tweets))))\n",
    "\n",
    "x_train, x_test, y_train, y_test = train_test_split(np.concatenate((pos_tweets, neg_tweets)), y, test_size=0.2)\n",
    "\n",
    "#Do some very minor text preprocessing\n",
    "def cleanText(corpus):\n",
    "    corpus = [z.lower().replace('\\n','').split() for z in corpus]\n",
    "    return corpus\n",
    "\n",
    "x_train = cleanText(x_train)\n",
    "x_test = cleanText(x_test)\n",
    "\n",
    "n_dim = 300\n",
    "#Initialize model and build vocab\n",
    "imdb_w2v = Word2Vec(size=n_dim, min_count=10)\n",
    "imdb_w2v.build_vocab(x_train)\n",
    "\n",
    "#Train the model over train_reviews (this may take several minutes)\n",
    "imdb_w2v.train(x_train)"
   ]
  },
  {
   "cell_type": "markdown",
   "metadata": {},
   "source": [
    "## Создаем векторы слов для усреднение этих векторов в твите:\n",
    "Построим слово вектор для подготовки набора, используя среднее значение всех векторов слов в твиттере, а затем их масштабировать\n",
    "#А при масштабирование мы используем стандартизцию. С помощью этого мы данные приводимк гауссовому распределению со средним значением, равным нулю"
   ]
  },
  {
   "cell_type": "code",
   "execution_count": 14,
   "metadata": {
    "collapsed": true
   },
   "outputs": [],
   "source": [
    "def buildWordVector(text, size):\n",
    "    vec = np.zeros(size).reshape((1, size))\n",
    "    count = 0.\n",
    "    for word in text:\n",
    "        try:\n",
    "            vec += imdb_w2v[word].reshape((1, size))\n",
    "            count += 1.\n",
    "        except KeyError:\n",
    "            continue\n",
    "    if count != 0:\n",
    "        vec /= count\n",
    "    return vec"
   ]
  },
  {
   "cell_type": "markdown",
   "metadata": {},
   "source": [
    "В последствии, мы получим что значения, которые превышают среднее, будут положительными, а те, что ниже среднего значения будет отрицательным. Многие модели ML требуют масштабируется наборов данных для эффективного выполнения, особенно с большим количеством функций отрицательными. Для эффективной работы многих моделей машинного обучения требуются масштабированные наборы данных, особенно для моделей с большим количеством признаков, таких как текстовые классификаторы."
   ]
  },
  {
   "cell_type": "code",
   "execution_count": 15,
   "metadata": {},
   "outputs": [
    {
     "data": {
      "text/plain": [
       "110800"
      ]
     },
     "execution_count": 15,
     "metadata": {},
     "output_type": "execute_result"
    }
   ],
   "source": [
    "from sklearn.preprocessing import scale\n",
    "train_vecs = np.concatenate([buildWordVector(z, n_dim) for z in x_train])\n",
    "train_vecs = scale(train_vecs)\n",
    "#Тренируем word2vec твит тестах\n",
    "imdb_w2v.train(x_test)"
   ]
  },
  {
   "cell_type": "code",
   "execution_count": 16,
   "metadata": {
    "collapsed": true
   },
   "outputs": [],
   "source": [
    "#Построим свои заданные векторы тестирования и масштабировать их для оценки.\n",
    "test_vecs = np.concatenate([buildWordVector(z, n_dim) for z in x_test])\n",
    "test_vecs = scale(test_vecs)"
   ]
  },
  {
   "cell_type": "markdown",
   "metadata": {},
   "source": [
    "Далее мы хотим подтвердить наш классификатор путем расчета точности прогнозирования на тестовых данных, а также изучения его характеристической кривой приемника Рабочая (ROC). Кривые ROC измерения истинной положительной скорости по сравнению с ложно-положительной скорости классификатора при настройке параметра модели. В нашем случае, мы регулируем отсечения пороговой вероятности классификации твит в качестве положительного или отрицательного настроения. Как правило, чем больше площадь под кривой (AUC), тем лучше наша модель делает на максимизацию истинных срабатываний при минимизации ложных срабатываний.\n",
    "\n",
    "Для начала мы будем тренировать свой классификатор. Будем использовать метод стохастического градиентного спуска для логистической регрессии(Stochastic Gradient Descent for Logistic Regression)."
   ]
  },
  {
   "cell_type": "code",
   "execution_count": 17,
   "metadata": {},
   "outputs": [
    {
     "name": "stdout",
     "output_type": "stream",
     "text": [
      "Test Accuracy: 0.45\n"
     ]
    }
   ],
   "source": [
    "from sklearn.linear_model import SGDClassifier\n",
    "\n",
    "lr = SGDClassifier(loss='log', penalty='l1')\n",
    "lr.fit(train_vecs, y_train)\n",
    "\n",
    "print 'Test Accuracy: %.2f'%lr.score(test_vecs, y_test)"
   ]
  },
  {
   "cell_type": "markdown",
   "metadata": {},
   "source": [
    "Затем мы создадим кривую ROC для оценки (с помощью Matplotlib и метод roc_curve из Scikit-Learn-х метрического пакета)"
   ]
  },
  {
   "cell_type": "code",
   "execution_count": 20,
   "metadata": {},
   "outputs": [],
   "source": [
    "#Create ROC curve\n",
    "from sklearn.metrics import roc_curve, auc\n",
    "import matplotlib.pyplot as plt\n",
    "\n",
    "pred_probas = lr.predict_proba(test_vecs)[:,1]\n",
    "\n",
    "fpr,tpr,_ = roc_curve(y_test, pred_probas)\n",
    "roc_auc = auc(fpr,tpr)\n",
    "plt.plot(fpr,tpr,label='area = %.2f' %roc_auc)\n",
    "plt.plot([0, 1], [0, 1], 'k--')\n",
    "plt.xlim([0.0, 1.0])\n",
    "plt.ylim([0.0, 1.05])\n",
    "plt.legend(loc='lower right')\n",
    "\n",
    "plt.show()"
   ]
  },
  {
   "cell_type": "markdown",
   "metadata": {},
   "source": [
    "<img src='data/2.jpg'> </img>"
   ]
  },
  {
   "cell_type": "markdown",
   "metadata": {},
   "source": [
    "Без процедуры создания признаков и с минимальной предобработкой текста мы можем получить точность 77%, используя простую линейную модель из библиотеки scikit-learn. Примечательно, что удаление знаков препинания снижает точность. Это означает, что Word2Vec способен находить полезные признаки, когда присутствуют такие символы, как «?» и «!». Работа с отдельными словами или чуть большого обучения или делая более серезнуб предобработку и настроив параметров Word2Vec и классификатора мы можем повысить точность. "
   ]
  },
  {
   "cell_type": "code",
   "execution_count": 22,
   "metadata": {},
   "outputs": [],
   "source": [
    "from NNet import NeuralNet\n",
    "\n",
    "nnet = NeuralNet(100, learn_rate=1e-1, penalty=1e-8)\n",
    "maxiter = 1000\n",
    "batch = 150\n",
    "_ = nnet.fit(train_vecs, y_train, fine_tune=False, maxiter=maxiter, SGD=True, batch=batch, rho=0.9)\n",
    "\n",
    "print 'Test Accuracy: %ё.2f'%nnet.score(test_vecs, y_test)"
   ]
  },
  {
   "cell_type": "markdown",
   "metadata": {},
   "source": [
    "Test Accuracy: 0.83"
   ]
  },
  {
   "cell_type": "markdown",
   "metadata": {},
   "source": [
    "ТУт нам удалось улучшить наш результат до 55%. Такие низкие результаты были получены так как  Был выбран рандомный отзывы из твиттера. и файлы содержат мало смайликов которые изображают Эмоции."
   ]
  },
  {
   "cell_type": "markdown",
   "metadata": {},
   "source": [
    "## Использование Doc2Vec для анализа обзор(рецензий ) фильмов"
   ]
  },
  {
   "cell_type": "markdown",
   "metadata": {},
   "source": [
    "В случае твитов использование усредненных векторов слов давало хорошие результаты. Это происходит потому, что твиты обычно содержат не более нескольких десятков слов, что позволяет нам сохранить соответствующие признаки даже при усреднении. Однако если мы будем игнорировать порядок слов и контекст в масштабе абзацев, мы рискуем потерять важные признаки.\n",
    "\n",
    "В этом случае лучше использовать Doc2Vec, чтобы создать входные признаки. В качестве примера мы будем использовать набор данных IMDB, содержащий рецензии на кинофильмы, чтобы протестировать эффективность Doc2Vec в области анализа тональности текста. Набор данных содержит 25 000 позитивных рецензий, 25 000 негативных и 50 000 рецензий, тональность которых неизвестна.\n",
    "\n",
    "Сначала мы обучаем Doc2Vec на рецензиях неизвестной тональности. Дальнейшая методика идентична примеру для Word2Vec, представленному выше, за исключением того, что мы будем использовать в качестве входных данных векторы обоих методов DM и DBOW, объединив их."
   ]
  },
  {
   "cell_type": "code",
   "execution_count": 4,
   "metadata": {},
   "outputs": [],
   "source": [
    "import os\n",
    "pos_reviews = []\n",
    "root = 'IMDB_data/pos'\n",
    "for filename in os.listdir(root):\n",
    "    with open(os.path.join(root, filename), 'r') as f:\n",
    "        pos_reviews.append(f.read().strip())\n",
    "\n",
    "neg_reviews = []\n",
    "root = 'IMDB_data/neg'\n",
    "for filename in os.listdir(root):\n",
    "    with open(os.path.join(root, filename), 'r') as f:\n",
    "        neg_reviews.append(f.read().strip())\n",
    "\n",
    "unsup_reviews = []\n",
    "root = 'IMDB_data/unsup'\n",
    "for filename in os.listdir(root):\n",
    "    with open(os.path.join(root, filename), 'r') as f:\n",
    "        unsup_reviews.append(f.read().strip())\n",
    "        \n",
    "# unsup_reviews = iter(unsup_reviews)"
   ]
  },
  {
   "cell_type": "code",
   "execution_count": 6,
   "metadata": {},
   "outputs": [],
   "source": [
    "import gensim\n",
    "import gensim.models.doc2vec"
   ]
  },
  {
   "cell_type": "markdown",
   "metadata": {},
   "source": [
    "Создаем объекты типа LabeledSentence:"
   ]
  },
  {
   "cell_type": "code",
   "execution_count": 7,
   "metadata": {},
   "outputs": [],
   "source": [
    "LabeledSentence = gensim.models.doc2vec.LabeledSentence\n",
    "\n",
    "\n",
    "from sklearn.cross_validation import train_test_split\n",
    "import numpy as np\n",
    "\n",
    "y = np.concatenate((np.ones(len(pos_reviews)), np.zeros(len(neg_reviews))))\n",
    "\n",
    "x_train, x_test, y_train, y_test = train_test_split(np.concatenate((pos_reviews, neg_reviews)), y, test_size=0.2)\n",
    "\n",
    "#Do some very minor text preprocessing\n",
    "def cleanText(corpus):\n",
    "    punctuation = \"\"\".,?!:;(){}[]\"\"\"\n",
    "    corpus = [z.lower().replace('\\n','') for z in corpus]\n",
    "    corpus = [z.replace('<br />', ' ') for z in corpus]\n",
    "\n",
    "    #treat punctuation as individual words\n",
    "    for c in punctuation:\n",
    "        corpus = [z.replace(c, ' %s '%c) for z in corpus]\n",
    "    corpus = [z.split() for z in corpus]\n",
    "    return corpus\n",
    "\n",
    "x_train = cleanText(x_train)\n",
    "x_test = cleanText(x_test)\n",
    "unsup_reviews = cleanText(unsup_reviews)\n",
    "\n",
    "#Gensim's Doc2Vec implementation requires each document/paragraph to have a label associated with it.\n",
    "#We do this by using the LabeledSentence method. The format will be \"TRAIN_i\" or \"TEST_i\" where \"i\" is\n",
    "#a dummy index of the review.\n",
    "def labelizeReviews(reviews, label_type):\n",
    "    labelized = []\n",
    "    for i,v in enumerate(reviews):\n",
    "        label = '%s_%s'%(label_type,i)\n",
    "        labelized.append(LabeledSentence(v, [label]))\n",
    "    return labelized\n",
    "\n",
    "x_train = labelizeReviews(x_train, 'TRAIN')\n",
    "x_test = labelizeReviews(x_test, 'TEST')\n",
    "unsup_reviews = labelizeReviews(unsup_reviews, 'UNSUP')"
   ]
  },
  {
   "cell_type": "markdown",
   "metadata": {},
   "source": [
    "Далее создаем экземпляры двух моделей Doc2Vec – DM и DBOW. Документация gensim рекомендует применять многократное обучение, а также либо варьировать скорость обучения, либо использовать случайный порядок входных данных при каждом проходе. Затем мы собираем векторы рецензий, на которых обучались модели."
   ]
  },
  {
   "cell_type": "code",
   "execution_count": 17,
   "metadata": {},
   "outputs": [],
   "source": [
    "import random\n",
    "\n",
    "size = 400\n",
    "\n",
    "#instantiate our DM and DBOW models\n",
    "model_dm = gensim.models.Doc2Vec(min_count=1, window=10, size=size, sample=1e-3, negative=5, workers=3)\n",
    "model_dbow = gensim.models.Doc2Vec(min_count=1, window=10, size=size, sample=1e-3, negative=5, dm=0, workers=3)\n",
    "\n",
    "#build vocab over all reviews\n",
    "model_dm.build_vocab(np.concatenate((list(x_train), list(x_test), list(unsup_reviews))).tolist()))\n",
    "model_dbow.build_vocab(np.concatenate((x_train, x_test, unsup_reviews)))\n",
    "\n",
    "#We pass through the data set multiple times, shuffling the training reviews each time to improve accuracy.\n",
    "all_train_reviews = np.concatenate((x_train, unsup_reviews))\n",
    "for epoch in range(10):\n",
    "    perm = np.random.permutation(all_train_reviews.shape[0])\n",
    "    model_dm.train(all_train_reviews[perm])\n",
    "    model_dbow.train(all_train_reviews[perm])\n",
    "\n",
    "#Get training set vectors from our models\n",
    "def getVecs(model, corpus, size):\n",
    "    vecs = [np.array(model[z.labels[0]]).reshape((1, size)) for z in corpus]\n",
    "    return np.concatenate(vecs)\n",
    "\n",
    "train_vecs_dm = getVecs(model_dm, x_train, size)\n",
    "train_vecs_dbow = getVecs(model_dbow, x_train, size)\n",
    "\n",
    "train_vecs = np.hstack((train_vecs_dm, train_vecs_dbow))\n",
    "\n",
    "#train over test set\n",
    "x_test = np.array(x_test)\n",
    "\n",
    "for epoch in range(10):\n",
    "    perm = np.random.permutation(x_test.shape[0])\n",
    "    model_dm.train(x_test[perm])\n",
    "    model_dbow.train(x_test[perm])\n",
    "\n",
    "#Construct vectors for test reviews\n",
    "test_vecs_dm = getVecs(model_dm, x_test, size)\n",
    "test_vecs_dbow = getVecs(model_dbow, x_test, size)\n",
    "\n",
    "test_vecs = np.hstack((test_vecs_dm, test_vecs_dbow))"
   ]
  },
  {
   "cell_type": "markdown",
   "metadata": {},
   "source": [
    "Теперь мы готовы обучить классификатор на векторах рецензий. Мы снова будем использовать классификатор на основе стохастического градиентного спуска SGDClassifier из библиотеки scikit-learn."
   ]
  },
  {
   "cell_type": "code",
   "execution_count": 18,
   "metadata": {},
   "outputs": [],
   "source": [
    "from sklearn.linear_model import SGDClassifier\n",
    "\n",
    "lr = SGDClassifier(loss='log', penalty='l1')\n",
    "lr.fit(train_vecs, y_train)\n",
    "\n",
    "print 'Test Accuracy: %.2f'%lr.score(test_vecs, y_test)"
   ]
  },
  {
   "cell_type": "markdown",
   "metadata": {},
   "source": [
    "Test Accuracy: 0.86"
   ]
  },
  {
   "cell_type": "markdown",
   "metadata": {},
   "source": [
    "Эта модель обеспечивает точность 0,86. Мы также можем построить ROC-кривую для данного классификатора:"
   ]
  },
  {
   "cell_type": "code",
   "execution_count": 19,
   "metadata": {
    "collapsed": true
   },
   "outputs": [],
   "source": [
    "#Create ROC curve\n",
    "from sklearn.metrics import roc_curve, auc\n",
    "%matplotlib inline\n",
    "import matplotlib.pyplot as plt\n",
    "\n",
    "pred_probas = lr.predict_proba(test_vecs)[:,1]\n",
    "\n",
    "fpr,tpr,_ = roc_curve(y_test, pred_probas)\n",
    "roc_auc = auc(fpr,tpr)\n",
    "plt.plot(fpr,tpr,label='area = %.2f' %roc_auc)\n",
    "plt.plot([0, 1], [0, 1], 'k--')\n",
    "plt.xlim([0.0, 1.0])\n",
    "plt.ylim([0.0, 1.05])\n",
    "plt.legend(loc='lower right')\n",
    "\n",
    "plt.show()"
   ]
  },
  {
   "cell_type": "markdown",
   "metadata": {},
   "source": [
    "<img src='data/1.jpg'> </img>"
   ]
  },
  {
   "cell_type": "code",
   "execution_count": 23,
   "metadata": {
    "collapsed": true
   },
   "outputs": [],
   "source": [
    "from NNet import NeuralNet\n",
    "\n",
    "nnet = NeuralNet(50, learn_rate=1e-2)\n",
    "maxiter = 500\n",
    "batch = 150\n",
    "_ = nnet.fit(train_vecs, y_train, fine_tune=False, maxiter=maxiter, SGD=True, batch=batch, rho=0.9)\n",
    "\n",
    "print 'Test Accuracy: %.2f'%nnet.score(test_vecs, y_test)"
   ]
  },
  {
   "cell_type": "markdown",
   "metadata": {},
   "source": [
    "Интересно, что в данном случае мы не наблюдаем подобного улучшения. Точность составляет 0,84, и мы не достигли уровня ошибок 7,42%."
   ]
  },
  {
   "cell_type": "markdown",
   "metadata": {
    "collapsed": true
   },
   "source": [
    "Test Accuracy: 0.84"
   ]
  }
 ],
 "metadata": {
  "kernelspec": {
   "display_name": "Python 3",
   "language": "python",
   "name": "python3"
  },
  "language_info": {
   "codemirror_mode": {
    "name": "ipython",
    "version": 3
   },
   "file_extension": ".py",
   "mimetype": "text/x-python",
   "name": "python",
   "nbconvert_exporter": "python",
   "pygments_lexer": "ipython3",
   "version": "3.8.3"
  }
 },
 "nbformat": 4,
 "nbformat_minor": 1
}
