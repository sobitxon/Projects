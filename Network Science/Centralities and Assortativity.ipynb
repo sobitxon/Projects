{
 "cells": [
  {
   "cell_type": "markdown",
   "metadata": {},
   "source": [
    "# <center>Network Science</center>"
   ]
  },
  {
   "cell_type": "markdown",
   "metadata": {},
   "source": [
    "## <center>Home Assignment #3: Centralities and Assortativity</center>"
   ]
  },
  {
   "cell_type": "markdown",
   "metadata": {},
   "source": [
    "### <center>Student: *Atakhujayev Sobitkhon*</center>"
   ]
  },
  {
   "cell_type": "markdown",
   "metadata": {},
   "source": [
    "#### <hr /> General Information"
   ]
  },
  {
   "cell_type": "code",
   "execution_count": 1,
   "metadata": {
    "collapsed": true
   },
   "outputs": [],
   "source": [
    "from __future__ import print_function, division\n",
    "import pandas as pd\n",
    "import networkx as nx\n",
    "import numpy as np\n",
    "import pylab as pl\n",
    "import scipy.io\n",
    "%matplotlib inline"
   ]
  },
  {
   "cell_type": "markdown",
   "metadata": {},
   "source": [
    "## Problems"
   ]
  },
  {
   "cell_type": "markdown",
   "metadata": {},
   "source": [
    "### Task 1"
   ]
  },
  {
   "cell_type": "markdown",
   "metadata": {},
   "source": [
    "Compute degree centrality, Pagerank and  HubAuthorities scores for the [flickr](https://www.hse.ru/data/2016/02/24/1139618969/flickr.mat) network. \n",
    "\n",
    "Data contains sparse matrix A and list of user names.\n",
    "This is a “denser” part of the Flickr photo sharing site friendship graph from 2006. Edge direction corresponds to friendship requests (following). Some of the links are reciprocal,others not.  \n",
    "\n",
    "Provide top 50 names in each ranking, compare results\n",
    "\n",
    "You can load .mat files with the following commands:"
   ]
  },
  {
   "cell_type": "code",
   "execution_count": 3,
   "metadata": {},
   "outputs": [],
   "source": [
    "data = scipy.io.loadmat('flickr.mat')"
   ]
  },
  {
   "cell_type": "code",
   "execution_count": 13,
   "metadata": {},
   "outputs": [
    {
     "data": {
      "text/plain": [
       "<networkx.classes.digraph.DiGraph at 0x7f05e8783950>"
      ]
     },
     "execution_count": 13,
     "metadata": {},
     "output_type": "execute_result"
    }
   ],
   "source": [
    "G = nx.from_scipy_sparse_matrix(data['A'], create_using=nx.DiGraph())\n",
    "G.number_of_nodes(), G.number_of_edges()"
   ]
  },
  {
   "cell_type": "code",
   "execution_count": 42,
   "metadata": {},
   "outputs": [
    {
     "data": {
      "text/plain": [
       "0             Eric\n",
       "1    Jason Classon\n",
       "2              neb\n",
       "3            Basel\n",
       "4       Tom Coates\n",
       "dtype: object"
      ]
     },
     "execution_count": 42,
     "metadata": {},
     "output_type": "execute_result"
    }
   ],
   "source": [
    "names = pd.Series(data['names']).str.strip()\n",
    "names.head()"
   ]
  },
  {
   "cell_type": "code",
   "execution_count": 48,
   "metadata": {},
   "outputs": [
    {
     "data": {
      "text/plain": [
       "0    0.020480\n",
       "1    0.005851\n",
       "2    0.014819\n",
       "3    0.001590\n",
       "4    0.024741\n",
       "dtype: float64"
      ]
     },
     "execution_count": 48,
     "metadata": {},
     "output_type": "execute_result"
    }
   ],
   "source": [
    "degree_centrality = pd.Series(nx.degree_centrality(G))\n",
    "degree_centrality.head()\n"
   ]
  },
  {
   "cell_type": "code",
   "execution_count": 47,
   "metadata": {},
   "outputs": [
    {
     "data": {
      "text/plain": [
       "0    0.000448\n",
       "1    0.000105\n",
       "2    0.000312\n",
       "3    0.000043\n",
       "4    0.000593\n",
       "dtype: float64"
      ]
     },
     "execution_count": 47,
     "metadata": {},
     "output_type": "execute_result"
    }
   ],
   "source": [
    "pagerank = pd.Series(nx.pagerank(G, alpha=0.85))\n",
    "pagerank.head()"
   ]
  },
  {
   "cell_type": "code",
   "execution_count": 53,
   "metadata": {},
   "outputs": [
    {
     "data": {
      "text/plain": [
       "0    0.000148\n",
       "1    0.000041\n",
       "2    0.000141\n",
       "3    0.000014\n",
       "4    0.000123\n",
       "dtype: float64"
      ]
     },
     "execution_count": 53,
     "metadata": {},
     "output_type": "execute_result"
    }
   ],
   "source": [
    "hubs, authorities = nx.hits(G)\n",
    "hubs = pd.Series(hubs)\n",
    "authorities = pd.Series(authorities)\n",
    "hubs.head()"
   ]
  },
  {
   "cell_type": "code",
   "execution_count": 51,
   "metadata": {
    "collapsed": true
   },
   "outputs": [],
   "source": [
    "def top_ranking_names(ranking, name):\n",
    "    print('TOP 50 names by', name)\n",
    "    return (names[ranking.sort_values(ascending=False).head(50).index])"
   ]
  },
  {
   "cell_type": "code",
   "execution_count": 54,
   "metadata": {},
   "outputs": [
    {
     "name": "stdout",
     "output_type": "stream",
     "text": [
      "TOP 50 names by DEGREE CENTRALITY\n"
     ]
    },
    {
     "data": {
      "text/plain": [
       "1464                   awfulsara\n",
       "3746                         drp\n",
       "2128                    DrJoanne\n",
       "10845                 antimethod\n",
       "5628                      *Ivan*\n",
       "4012                     BombDog\n",
       "7533           deborah lattimore\n",
       "8234                  Simon Pais\n",
       "4964                     cymagen\n",
       "880                     notraces\n",
       "12812            MaD GiÂ®Lâ¢â¢\n",
       "8602                      aleyna\n",
       "7379                   *starlet*\n",
       "12674                 lorrainemd\n",
       "2925                   Pandarine\n",
       "4300                     :Nikola\n",
       "3097                   artofgold\n",
       "6136           Mareen Fischinger\n",
       "8054                       gu@va\n",
       "9463                      Mylens\n",
       "3784          bernardo.borghetti\n",
       "6147                hot_luscious\n",
       "1043                   romanlily\n",
       "22                       jkottke\n",
       "3808                   pixietart\n",
       "170                    slowernet\n",
       "59                      anildash\n",
       "6127                     pbowers\n",
       "269                          Joi\n",
       "134                      fraying\n",
       "8690                naftalina007\n",
       "10525                      .lush\n",
       "117                      Loobylu\n",
       "2958                    Buntekuh\n",
       "5554                  CherryVega\n",
       "973                        Gayla\n",
       "189                   jakedobkin\n",
       "119                   underbunny\n",
       "2936                    Airchild\n",
       "1208                          fd\n",
       "91                     maximolly\n",
       "6031                  * HoNe$t *\n",
       "12189          Sexy Swedish Babe\n",
       "9014                       Ya Ya\n",
       "3370                   kaneblues\n",
       "5704               Tsunami Notes\n",
       "1640                      990000\n",
       "3493                overshadowed\n",
       "8308     good morning stradivari\n",
       "4                     Tom Coates\n",
       "dtype: object"
      ]
     },
     "execution_count": 54,
     "metadata": {},
     "output_type": "execute_result"
    }
   ],
   "source": [
    "top_ranking_names(degree_centrality, 'DEGREE CENTRALITY')\n"
   ]
  },
  {
   "cell_type": "code",
   "execution_count": 55,
   "metadata": {},
   "outputs": [
    {
     "name": "stdout",
     "output_type": "stream",
     "text": [
      "TOP 50 names by PAGE RANK\n"
     ]
    },
    {
     "data": {
      "text/plain": [
       "1464              awfulsara\n",
       "3746                    drp\n",
       "10845            antimethod\n",
       "4012                BombDog\n",
       "5628                 *Ivan*\n",
       "12812       MaD GiÂ®Lâ¢â¢\n",
       "2128               DrJoanne\n",
       "8234             Simon Pais\n",
       "7533      deborah lattimore\n",
       "4964                cymagen\n",
       "4300                :Nikola\n",
       "880                notraces\n",
       "22                  jkottke\n",
       "12674            lorrainemd\n",
       "170               slowernet\n",
       "3097              artofgold\n",
       "1043              romanlily\n",
       "7379              *starlet*\n",
       "2925              Pandarine\n",
       "6147           hot_luscious\n",
       "6136      Mareen Fischinger\n",
       "119              underbunny\n",
       "134                 fraying\n",
       "9463                 Mylens\n",
       "8602                 aleyna\n",
       "6031             * HoNe$t *\n",
       "8054                  gu@va\n",
       "6127                pbowers\n",
       "59                 anildash\n",
       "117                 Loobylu\n",
       "269                     Joi\n",
       "5554             CherryVega\n",
       "6998     Marcelo  Montecino\n",
       "3784     bernardo.borghetti\n",
       "7535         !!uAe prince!!\n",
       "6935               Esther_G\n",
       "5175       Departure Lounge\n",
       "600              gruntzooki\n",
       "973                   Gayla\n",
       "4                Tom Coates\n",
       "91                maximolly\n",
       "5784            chromogenic\n",
       "7888              Agridulce\n",
       "8690           naftalina007\n",
       "3808              pixietart\n",
       "9177              aquanerds\n",
       "3493           overshadowed\n",
       "10525                 .lush\n",
       "189              jakedobkin\n",
       "1208                     fd\n",
       "dtype: object"
      ]
     },
     "execution_count": 55,
     "metadata": {},
     "output_type": "execute_result"
    }
   ],
   "source": [
    "top_ranking_names(pagerank, 'PAGE RANK')"
   ]
  },
  {
   "cell_type": "code",
   "execution_count": 56,
   "metadata": {},
   "outputs": [
    {
     "name": "stdout",
     "output_type": "stream",
     "text": [
      "TOP 50 names by HUBS\n"
     ]
    },
    {
     "data": {
      "text/plain": [
       "3820                mrpiink\n",
       "7953                automat\n",
       "14003             schizoo23\n",
       "12674            lorrainemd\n",
       "6571             sgoralnick\n",
       "7379              *starlet*\n",
       "10486              brynfoto\n",
       "11303          liquid pixel\n",
       "4995              noahstone\n",
       "6517              isherwood\n",
       "14945               Arno-MM\n",
       "9338           scotsman0170\n",
       "5489              WaveSpire\n",
       "5038                 tozzer\n",
       "10687          ...cathzilla\n",
       "4964                cymagen\n",
       "13168             ola_babe1\n",
       "2128               DrJoanne\n",
       "3989            pablokorona\n",
       "14594              demouser\n",
       "9075                jallive\n",
       "6262                macebio\n",
       "8664               marika b\n",
       "3746                    drp\n",
       "7154                Osvaldo\n",
       "14681             Crea.tive\n",
       "5451        sheldonschwartz\n",
       "6291                  virgu\n",
       "13344            mehmetkale\n",
       "13155             gucci1000\n",
       "4647                 Zewalt\n",
       "3784     bernardo.borghetti\n",
       "880                notraces\n",
       "7767       Grains And Light\n",
       "3493           overshadowed\n",
       "3422               neuskool\n",
       "15068                pblgbp\n",
       "6955               sillydog\n",
       "6716              zaharoula\n",
       "11233           mark daniel\n",
       "9709                astrid~\n",
       "10935                MrTopf\n",
       "10810               spanier\n",
       "4397                   ricd\n",
       "9103                 schani\n",
       "8571           redmondbarry\n",
       "6136      Mareen Fischinger\n",
       "9352                grow-er\n",
       "10525                 .lush\n",
       "8690           naftalina007\n",
       "dtype: object"
      ]
     },
     "execution_count": 56,
     "metadata": {},
     "output_type": "execute_result"
    }
   ],
   "source": [
    "top_ranking_names(hubs, 'HUBS')"
   ]
  },
  {
   "cell_type": "code",
   "execution_count": 57,
   "metadata": {},
   "outputs": [
    {
     "name": "stdout",
     "output_type": "stream",
     "text": [
      "TOP 50 names by AUTHORITIES\n"
     ]
    },
    {
     "data": {
      "text/plain": [
       "1464              awfulsara\n",
       "3746                    drp\n",
       "2128               DrJoanne\n",
       "5628                 *Ivan*\n",
       "10845            antimethod\n",
       "4012                BombDog\n",
       "8234             Simon Pais\n",
       "7533      deborah lattimore\n",
       "4964                cymagen\n",
       "4300                :Nikola\n",
       "12674            lorrainemd\n",
       "7379              *starlet*\n",
       "8602                 aleyna\n",
       "3097              artofgold\n",
       "880                notraces\n",
       "1043              romanlily\n",
       "2925              Pandarine\n",
       "9463                 Mylens\n",
       "6136      Mareen Fischinger\n",
       "3784     bernardo.borghetti\n",
       "8054                  gu@va\n",
       "12189     Sexy Swedish Babe\n",
       "6127                pbowers\n",
       "10525                 .lush\n",
       "2473                 Merina\n",
       "6935               Esther_G\n",
       "170               slowernet\n",
       "5554             CherryVega\n",
       "10606                bex_ai\n",
       "11006              nedrosen\n",
       "8690           naftalina007\n",
       "7888              Agridulce\n",
       "8233            callipygian\n",
       "6517              isherwood\n",
       "1287               aircrash\n",
       "9084     Lola The Car Chick\n",
       "13930         liliths_nymph\n",
       "6902               Solarman\n",
       "7448        Ryou in the box\n",
       "3808              pixietart\n",
       "13496             Rachael D\n",
       "1208                     fd\n",
       "3652               macwagen\n",
       "119              underbunny\n",
       "6031             * HoNe$t *\n",
       "3711                  kunja\n",
       "12783            Home alone\n",
       "3449                  bekon\n",
       "1296                tecgirl\n",
       "6777                   carf\n",
       "dtype: object"
      ]
     },
     "execution_count": 57,
     "metadata": {},
     "output_type": "execute_result"
    }
   ],
   "source": [
    "top_ranking_names(authorities, 'AUTHORITIES')"
   ]
  },
  {
   "cell_type": "markdown",
   "metadata": {},
   "source": [
    "## Comparing:\n",
    "\n",
    "We see that some users are very important in this social network, have a lot of friends, followers, have big 'authority' (for example, 'awfulsara') <br>\n",
    "Also we can see users, that have followed a lot of guys, which is important (for example, mrpiink in HUBS) <br>\n"
   ]
  },
  {
   "cell_type": "markdown",
   "metadata": {},
   "source": [
    "### <hr /> Task 2"
   ]
  },
  {
   "cell_type": "markdown",
   "metadata": {},
   "source": [
    "Here are the [Facebook friendship graphs](https://www.hse.ru/data/2016/03/05/1125656999/universities.zip) from several US universities from 2005 (one year after fb launch).\n",
    "\n",
    "Data contains a A matrix (sparse) and a \"local_info\" variable, one row per node: \n",
    "a student/faculty status flag, gender, major, second major/minor (if applicable), dorm/house, year, and high school. \n",
    "Missing data is coded 0.\n",
    "\n",
    "Compute node degree assortativity (mixining by node degree) and assortativity coefficient (modularity) for gender, major, dormitory, year, high school for all universities and compare the results."
   ]
  },
  {
   "cell_type": "code",
   "execution_count": 2,
   "metadata": {
    "collapsed": true
   },
   "outputs": [],
   "source": [
    "filenames = ['Berkeley13.mat', 'Caltech36.mat', 'Harvard1.mat',\n",
    "             'Oklahoma97.mat', 'Princeton12.mat', 'Texas80.mat']\n",
    "data = [scipy.io.loadmat(filename) for filename in filenames]\n"
   ]
  },
  {
   "cell_type": "markdown",
   "metadata": {},
   "source": [
    "### all attributes are categorical, and we assume that 0 - is just another 'nan' category"
   ]
  },
  {
   "cell_type": "code",
   "execution_count": 8,
   "metadata": {},
   "outputs": [
    {
     "name": "stdout",
     "output_type": "stream",
     "text": [
      "\n",
      "COMPUTING ASSORTATIVITY FOR THE GRAPH IN Berkeley13.mat\n",
      "\n",
      "Node degree assortativity = 0.0103134590889\n",
      "\n",
      "student/faculty status -> assortativity coefficient = 0.274585850101\n",
      "gender -> assortativity coefficient = 0.0409228376393\n",
      "major -> assortativity coefficient = 0.058255029946\n",
      "second major/minor -> assortativity coefficient = 0.0165608759492\n",
      "dorm/house -> assortativity coefficient = 0.14727644076\n",
      "year -> assortativity coefficient = 0.308121015806\n",
      "high_school -> assortativity coefficient = 0.0773753653543\n",
      "\n",
      "COMPUTING ASSORTATIVITY FOR THE GRAPH IN Caltech36.mat\n",
      "\n",
      "Node degree assortativity = -0.0652729511948\n",
      "\n",
      "student/faculty status -> assortativity coefficient = 0.244079367433\n",
      "gender -> assortativity coefficient = 0.0463314364559\n",
      "major -> assortativity coefficient = 0.0347194237236\n",
      "second major/minor -> assortativity coefficient = 0.0106745758276\n",
      "dorm/house -> assortativity coefficient = 0.349153100873\n",
      "year -> assortativity coefficient = 0.237531904813\n",
      "high_school -> assortativity coefficient = 0.00266977930658\n",
      "\n",
      "COMPUTING ASSORTATIVITY FOR THE GRAPH IN Harvard1.mat\n",
      "\n",
      "Node degree assortativity = 0.145054887671\n",
      "\n",
      "student/faculty status -> assortativity coefficient = 0.542625062289\n",
      "gender -> assortativity coefficient = 0.0452699773794\n",
      "major -> assortativity coefficient = 0.0496769283286\n",
      "second major/minor -> assortativity coefficient = 0.0252268462113\n",
      "dorm/house -> assortativity coefficient = 0.12567663505\n",
      "year -> assortativity coefficient = 0.421159642116\n",
      "high_school -> assortativity coefficient = 0.0239867253741\n",
      "\n",
      "COMPUTING ASSORTATIVITY FOR THE GRAPH IN Oklahoma97.mat\n",
      "\n",
      "Node degree assortativity = 0.0736732579392\n",
      "\n",
      "student/faculty status -> assortativity coefficient = 0.194642670476\n",
      "gender -> assortativity coefficient = 0.0928372959827\n",
      "major -> assortativity coefficient = 0.0363790887617\n",
      "second major/minor -> assortativity coefficient = 0.0120342346449\n",
      "dorm/house -> assortativity coefficient = 0.280335243729\n",
      "year -> assortativity coefficient = 0.20116469147\n",
      "high_school -> assortativity coefficient = 0.139468406924\n",
      "\n",
      "COMPUTING ASSORTATIVITY FOR THE GRAPH IN Princeton12.mat\n",
      "\n",
      "Node degree assortativity = 0.091092123568\n",
      "\n",
      "student/faculty status -> assortativity coefficient = 0.482239599317\n",
      "gender -> assortativity coefficient = 0.0506107399953\n",
      "major -> assortativity coefficient = 0.0543901188714\n",
      "second major/minor -> assortativity coefficient = 0.0151892520329\n",
      "dorm/house -> assortativity coefficient = 0.0946784195542\n",
      "year -> assortativity coefficient = 0.446744620584\n",
      "high_school -> assortativity coefficient = 0.018783655245\n",
      "\n",
      "COMPUTING ASSORTATIVITY FOR THE GRAPH IN Texas80.mat\n",
      "\n",
      "Node degree assortativity = 0.163892412814\n",
      "\n",
      "student/faculty status -> assortativity coefficient = 0.28856242774\n",
      "gender -> assortativity coefficient = 0.0796930681412\n",
      "major -> assortativity coefficient = 0.0597127278334\n",
      "second major/minor -> assortativity coefficient = 0.0188466633113\n",
      "dorm/house -> assortativity coefficient = 0.204837604339\n",
      "year -> assortativity coefficient = 0.246194684162\n",
      "high_school -> assortativity coefficient = 0.147992848231\n"
     ]
    }
   ],
   "source": [
    "columns = ['student/faculty status', 'gender', 'major', 'second major/minor', 'dorm/house', 'year', 'high_school']\n",
    "for k, data_k in enumerate(data):\n",
    "    print('\\ncomputing assortativity for the graph in'.upper(), filenames[k], end='\\n\\n')\n",
    "    G = nx.from_scipy_sparse_matrix(data_k['A'], create_using=nx.DiGraph())\n",
    "    for i, col in enumerate(columns):\n",
    "        nx.set_node_attributes(G, col, {j:v for j,v in enumerate(data_k['local_info'][:, i])})\n",
    "    print('Node degree assortativity =', nx.degree_assortativity_coefficient(G), end='\\n\\n')\n",
    "    for col in columns:\n",
    "        print(col, '-> assortativity coefficient =', nx.assortativity.attribute_assortativity_coefficient(G, col))\n",
    "    "
   ]
  },
  {
   "cell_type": "markdown",
   "metadata": {},
   "source": [
    "# Comparing:\n",
    "\n",
    "As we can see above, in the case of high modularity, we can see appearance of some communities in the graphs <br>\n",
    "For example, we can see the division by YEAR and STUDENT/FACULTY STAFF in every university graph, which is intuitivly right. Interesting example - we can see an appearance of communities by DORM/HOUSE most in Caltech, Texas and Oklahoma universities. Also we can see some division by HIGH_SCHOOL in Texas and Oklahoma the most (compare to the others). <br>\n",
    "Also we see that there is absolutely no division (no communities) by SECOND_MAJOR/MINOR in all universities.\n"
   ]
  }
 ],
 "metadata": {
  "kernelspec": {
   "display_name": "Python 3",
   "language": "python",
   "name": "python3"
  },
  "language_info": {
   "codemirror_mode": {
    "name": "ipython",
    "version": 3
   },
   "file_extension": ".py",
   "mimetype": "text/x-python",
   "name": "python",
   "nbconvert_exporter": "python",
   "pygments_lexer": "ipython3",
   "version": "3.8.3"
  }
 },
 "nbformat": 4,
 "nbformat_minor": 1
}
